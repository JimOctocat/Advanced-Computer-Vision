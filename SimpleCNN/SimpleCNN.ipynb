{
  "cells": [
    {
      "cell_type": "markdown",
      "metadata": {},
      "source": [
        "# Attention!!!!!!!!!!\n",
        "- Bodyweights are duplicated, just 113 unique values.\n",
        "- After YOLO, image numbers dropped from #90881 to #46140\n",
        "- After removing NaN in real body weight, image number dropped into #46092\n",
        "\n",
        "\n",
        "\n",
        "################################################################################################\n",
        "################################################################################################\n",
        "################################################################################################\n",
        "################################################################################################"
      ]
    },
    {
      "cell_type": "code",
      "execution_count": 66,
      "metadata": {},
      "outputs": [
        {
          "data": {
            "text/plain": [
              "'d:\\\\OneDrive_VT\\\\OneDrive - Virginia Tech\\\\Research\\\\Codes\\\\research\\\\PigBW\\\\Pig_BW_beta\\\\DL'"
            ]
          },
          "execution_count": 66,
          "metadata": {},
          "output_type": "execute_result"
        }
      ],
      "source": [
        "import os\n",
        "os.chdir(\"d:\\\\OneDrive_VT\\\\OneDrive - Virginia Tech\\\\Research\\\\Codes\\\\research\\\\PigBW\\\\Pig_BW_beta\\\\DL\")\n",
        "os.getcwd()"
      ]
    },
    {
      "attachments": {},
      "cell_type": "markdown",
      "metadata": {
        "id": "buzqPfl4yZdU"
      },
      "source": [
        "## **Necessary Imports**"
      ]
    },
    {
      "cell_type": "code",
      "execution_count": 67,
      "metadata": {
        "id": "Pf0hDDwtyeEw"
      },
      "outputs": [],
      "source": [
        "import numpy as np\n",
        "import pandas as pd\n",
        "\n",
        "import numpy as np\n",
        "import tensorflow as tf\n",
        "from tensorflow import keras\n",
        "import random"
      ]
    },
    {
      "cell_type": "code",
      "execution_count": 68,
      "metadata": {},
      "outputs": [],
      "source": [
        "rootdir = \"H:/\"\n",
        "DAY = \"0801\"\n",
        "DAY_folder = rootdir + DAY"
      ]
    },
    {
      "cell_type": "code",
      "execution_count": 69,
      "metadata": {},
      "outputs": [],
      "source": [
        "bw_csv_path = \"../../weight/YH_oriPen_LeeO_weights_export_20230802_062440137.xlsx\"\n",
        "bw_df = pd.read_excel(bw_csv_path) "
      ]
    },
    {
      "cell_type": "code",
      "execution_count": 91,
      "metadata": {},
      "outputs": [
        {
          "name": "stdout",
          "output_type": "stream",
          "text": [
            "Now is running pen number pen10top\n",
            "Now is running pen number pen11top\n",
            "Now is running pen number pen13top\n",
            "Now is running pen number pen14top\n",
            "Now is running pen number pen15top\n",
            "Now is running pen number pen16top\n",
            "Now is running pen number pen17top\n",
            "Now is running pen number pen18top\n",
            "Now is running pen number pen19top\n",
            "Now is running pen number pen1top\n",
            "Now is running pen number pen20top\n",
            "Now is running pen number pen2top\n",
            "Now is running pen number pen3top\n",
            "Now is running pen number pen4top\n",
            "Now is running pen number pen5top\n",
            "Now is running pen number pen6top\n",
            "Now is running pen number pen7top\n",
            "Now is running pen number pen8top\n",
            "Now is running pen number pen9top\n"
          ]
        }
      ],
      "source": [
        "rowss = []\n",
        "for pen in os.listdir(DAY_folder):\n",
        "  print(\"Now is running pen number\", pen)\n",
        "  dep_folder = DAY_folder + \"/\" + pen + \"/Depth_resize/\"\n",
        "  for bag_id in os.listdir(dep_folder):\n",
        "      # print(\"Now is running bag id\", bag_id)\n",
        "      depthdir = dep_folder + bag_id + \"/\"\n",
        "      images_per_bag = os.listdir(depthdir)\n",
        "      rows = []\n",
        "      try:\n",
        "        weight_per_bag = bw_df[\"Weight (gr)\"][bw_df[\"Top\"] == bag_id + \".bag\"].values[0]/1000\n",
        "      except IndexError:\n",
        "        continue\n",
        "      \n",
        "      for i, image_path in enumerate(images_per_bag):\n",
        "          row = [depthdir+image_path, pen, bag_id, weight_per_bag]\n",
        "          rows.append(row)\n",
        "      rowss.append(rows)"
      ]
    },
    {
      "cell_type": "code",
      "execution_count": 92,
      "metadata": {},
      "outputs": [],
      "source": [
        "col_vals = ['FilePath', 'Pen', \"Bag_ID\",'Weights']\n",
        "labelled_depth = pd.concat(pd.DataFrame(rowss[i], columns=col_vals) for i in range(len(rowss)))"
      ]
    },
    {
      "cell_type": "code",
      "execution_count": 93,
      "metadata": {},
      "outputs": [
        {
          "data": {
            "text/plain": [
              "(112,)"
            ]
          },
          "execution_count": 93,
          "metadata": {},
          "output_type": "execute_result"
        }
      ],
      "source": [
        "np.unique(labelled_depth[\"Weights\"]).shape ###################astonished!"
      ]
    },
    {
      "cell_type": "code",
      "execution_count": 94,
      "metadata": {},
      "outputs": [
        {
          "name": "stdout",
          "output_type": "stream",
          "text": [
            "Before removing nan, image number is 46140\n"
          ]
        }
      ],
      "source": [
        "print(\"Before removing nan, image number is %d\" %len(labelled_depth))"
      ]
    },
    {
      "cell_type": "code",
      "execution_count": 95,
      "metadata": {},
      "outputs": [
        {
          "name": "stdout",
          "output_type": "stream",
          "text": [
            "After removing nan, image number is 46092\n"
          ]
        }
      ],
      "source": [
        "labelled_depth = labelled_depth.dropna(axis=0)\n",
        "print(\"After removing nan, image number is %d\" %len(labelled_depth))"
      ]
    },
    {
      "cell_type": "code",
      "execution_count": 75,
      "metadata": {},
      "outputs": [],
      "source": [
        "# data = labelled_depth[\"Weights\"]\n",
        "# mean = np.nanmean(data)\n",
        "# std = np.nanstd(data)\n",
        "# # Calculate the zscores\n",
        "# zscores = (data - mean) / std\n",
        "# labelled_depth[\"Weights\"] = zscores"
      ]
    },
    {
      "cell_type": "code",
      "execution_count": 96,
      "metadata": {},
      "outputs": [
        {
          "data": {
            "text/html": [
              "<div>\n",
              "<style scoped>\n",
              "    .dataframe tbody tr th:only-of-type {\n",
              "        vertical-align: middle;\n",
              "    }\n",
              "\n",
              "    .dataframe tbody tr th {\n",
              "        vertical-align: top;\n",
              "    }\n",
              "\n",
              "    .dataframe thead th {\n",
              "        text-align: right;\n",
              "    }\n",
              "</style>\n",
              "<table border=\"1\" class=\"dataframe\">\n",
              "  <thead>\n",
              "    <tr style=\"text-align: right;\">\n",
              "      <th></th>\n",
              "      <th>FilePath</th>\n",
              "      <th>Pen</th>\n",
              "      <th>Bag_ID</th>\n",
              "      <th>Weights</th>\n",
              "    </tr>\n",
              "  </thead>\n",
              "  <tbody>\n",
              "    <tr>\n",
              "      <th>0</th>\n",
              "      <td>H:/0801/pen10top/Depth_resize/20230801_172906/...</td>\n",
              "      <td>pen10top</td>\n",
              "      <td>20230801_172906</td>\n",
              "      <td>74.843</td>\n",
              "    </tr>\n",
              "    <tr>\n",
              "      <th>1</th>\n",
              "      <td>H:/0801/pen10top/Depth_resize/20230801_172906/...</td>\n",
              "      <td>pen10top</td>\n",
              "      <td>20230801_172906</td>\n",
              "      <td>74.843</td>\n",
              "    </tr>\n",
              "    <tr>\n",
              "      <th>2</th>\n",
              "      <td>H:/0801/pen10top/Depth_resize/20230801_172906/...</td>\n",
              "      <td>pen10top</td>\n",
              "      <td>20230801_172906</td>\n",
              "      <td>74.843</td>\n",
              "    </tr>\n",
              "    <tr>\n",
              "      <th>3</th>\n",
              "      <td>H:/0801/pen10top/Depth_resize/20230801_172906/...</td>\n",
              "      <td>pen10top</td>\n",
              "      <td>20230801_172906</td>\n",
              "      <td>74.843</td>\n",
              "    </tr>\n",
              "    <tr>\n",
              "      <th>4</th>\n",
              "      <td>H:/0801/pen10top/Depth_resize/20230801_172906/...</td>\n",
              "      <td>pen10top</td>\n",
              "      <td>20230801_172906</td>\n",
              "      <td>74.843</td>\n",
              "    </tr>\n",
              "    <tr>\n",
              "      <th>...</th>\n",
              "      <td>...</td>\n",
              "      <td>...</td>\n",
              "      <td>...</td>\n",
              "      <td>...</td>\n",
              "    </tr>\n",
              "    <tr>\n",
              "      <th>247</th>\n",
              "      <td>H:/0801/pen9top/Depth_resize/20230801_172346/_...</td>\n",
              "      <td>pen9top</td>\n",
              "      <td>20230801_172346</td>\n",
              "      <td>71.668</td>\n",
              "    </tr>\n",
              "    <tr>\n",
              "      <th>248</th>\n",
              "      <td>H:/0801/pen9top/Depth_resize/20230801_172346/_...</td>\n",
              "      <td>pen9top</td>\n",
              "      <td>20230801_172346</td>\n",
              "      <td>71.668</td>\n",
              "    </tr>\n",
              "    <tr>\n",
              "      <th>249</th>\n",
              "      <td>H:/0801/pen9top/Depth_resize/20230801_172346/_...</td>\n",
              "      <td>pen9top</td>\n",
              "      <td>20230801_172346</td>\n",
              "      <td>71.668</td>\n",
              "    </tr>\n",
              "    <tr>\n",
              "      <th>250</th>\n",
              "      <td>H:/0801/pen9top/Depth_resize/20230801_172346/_...</td>\n",
              "      <td>pen9top</td>\n",
              "      <td>20230801_172346</td>\n",
              "      <td>71.668</td>\n",
              "    </tr>\n",
              "    <tr>\n",
              "      <th>251</th>\n",
              "      <td>H:/0801/pen9top/Depth_resize/20230801_172346/_...</td>\n",
              "      <td>pen9top</td>\n",
              "      <td>20230801_172346</td>\n",
              "      <td>71.668</td>\n",
              "    </tr>\n",
              "  </tbody>\n",
              "</table>\n",
              "<p>46092 rows × 4 columns</p>\n",
              "</div>"
            ],
            "text/plain": [
              "                                              FilePath       Pen  \\\n",
              "0    H:/0801/pen10top/Depth_resize/20230801_172906/...  pen10top   \n",
              "1    H:/0801/pen10top/Depth_resize/20230801_172906/...  pen10top   \n",
              "2    H:/0801/pen10top/Depth_resize/20230801_172906/...  pen10top   \n",
              "3    H:/0801/pen10top/Depth_resize/20230801_172906/...  pen10top   \n",
              "4    H:/0801/pen10top/Depth_resize/20230801_172906/...  pen10top   \n",
              "..                                                 ...       ...   \n",
              "247  H:/0801/pen9top/Depth_resize/20230801_172346/_...   pen9top   \n",
              "248  H:/0801/pen9top/Depth_resize/20230801_172346/_...   pen9top   \n",
              "249  H:/0801/pen9top/Depth_resize/20230801_172346/_...   pen9top   \n",
              "250  H:/0801/pen9top/Depth_resize/20230801_172346/_...   pen9top   \n",
              "251  H:/0801/pen9top/Depth_resize/20230801_172346/_...   pen9top   \n",
              "\n",
              "              Bag_ID  Weights  \n",
              "0    20230801_172906   74.843  \n",
              "1    20230801_172906   74.843  \n",
              "2    20230801_172906   74.843  \n",
              "3    20230801_172906   74.843  \n",
              "4    20230801_172906   74.843  \n",
              "..               ...      ...  \n",
              "247  20230801_172346   71.668  \n",
              "248  20230801_172346   71.668  \n",
              "249  20230801_172346   71.668  \n",
              "250  20230801_172346   71.668  \n",
              "251  20230801_172346   71.668  \n",
              "\n",
              "[46092 rows x 4 columns]"
            ]
          },
          "execution_count": 96,
          "metadata": {},
          "output_type": "execute_result"
        }
      ],
      "source": [
        "labelled_depth"
      ]
    },
    {
      "cell_type": "code",
      "execution_count": 97,
      "metadata": {},
      "outputs": [
        {
          "data": {
            "text/plain": [
              "(46092,)"
            ]
          },
          "execution_count": 97,
          "metadata": {},
          "output_type": "execute_result"
        }
      ],
      "source": [
        "np.unique(labelled_depth[\"FilePath\"]).shape #90881 for Depth #46092 for Depth1 ################attention!!!!!"
      ]
    },
    {
      "cell_type": "code",
      "execution_count": 98,
      "metadata": {},
      "outputs": [
        {
          "data": {
            "text/plain": [
              "(604,)"
            ]
          },
          "execution_count": 98,
          "metadata": {},
          "output_type": "execute_result"
        }
      ],
      "source": [
        "np.unique(labelled_depth[\"Bag_ID\"]).shape"
      ]
    },
    {
      "cell_type": "code",
      "execution_count": 99,
      "metadata": {},
      "outputs": [
        {
          "data": {
            "text/plain": [
              "0"
            ]
          },
          "execution_count": 99,
          "metadata": {},
          "output_type": "execute_result"
        }
      ],
      "source": [
        "sum(labelled_depth[\"Weights\"].isna())"
      ]
    },
    {
      "cell_type": "code",
      "execution_count": 100,
      "metadata": {},
      "outputs": [
        {
          "data": {
            "text/plain": [
              "(array([   44.,   106.,  1567.,  3944., 10374., 11062.,  8802.,  8085.,\n",
              "         1538.,   570.]),\n",
              " array([ 37.648 ,  45.0416,  52.4352,  59.8288,  67.2224,  74.616 ,\n",
              "         82.0096,  89.4032,  96.7968, 104.1904, 111.584 ]),\n",
              " <BarContainer object of 10 artists>)"
            ]
          },
          "execution_count": 100,
          "metadata": {},
          "output_type": "execute_result"
        },
        {
          "data": {
            "image/png": "[encoded data removed]",
            "text/plain": [
              "<Figure size 640x480 with 1 Axes>"
            ]
          },
          "metadata": {},
          "output_type": "display_data"
        }
      ],
      "source": [
        "import matplotlib.pyplot as plt\n",
        "plt.hist(labelled_depth[\"Weights\"])"
      ]
    },
    {
      "cell_type": "code",
      "execution_count": null,
      "metadata": {},
      "outputs": [],
      "source": []
    },
    {
      "attachments": {},
      "cell_type": "markdown",
      "metadata": {
        "id": "kHeBxCvdOiZ-"
      },
      "source": [
        "## **Create Train / Validation / Test Split, Load Images**\n",
        "\n",
        "Prepare the images for use in the CNN now. Create the train_test_split, then create\n",
        "ImageDataGenerator objects to scale the pixel values for each depth image, and subsequently create\n",
        "a validation set out of the training set."
      ]
    },
    {
      "cell_type": "code",
      "execution_count": 101,
      "metadata": {},
      "outputs": [],
      "source": [
        "import random\n",
        "train_bag_id = random.sample(list(np.unique(labelled_depth[\"Bag_ID\"])), int(604*0.8))\n",
        "\n",
        "train_df = labelled_depth[labelled_depth[\"Bag_ID\"].isin(train_bag_id)]\n",
        "test_df = labelled_depth[-labelled_depth[\"Bag_ID\"].isin(train_bag_id)]"
      ]
    },
    {
      "cell_type": "code",
      "execution_count": 102,
      "metadata": {},
      "outputs": [
        {
          "name": "stdout",
          "output_type": "stream",
          "text": [
            "Training set size is 37263\n",
            "Test set size is 8829\n",
            "Training set bag id size is 483\n",
            "Test set bag id size is 121\n"
          ]
        }
      ],
      "source": [
        "print(\"Training set size is %d\" %train_df.shape[0])\n",
        "print(\"Test set size is %d\" %test_df.shape[0])\n",
        "print(\"Training set bag id size is %d\" %np.unique(train_df[\"Bag_ID\"]).shape[0])\n",
        "print(\"Test set bag id size is %d\" %np.unique(test_df[\"Bag_ID\"]).shape[0])"
      ]
    },
    {
      "cell_type": "code",
      "execution_count": 103,
      "metadata": {},
      "outputs": [],
      "source": [
        "import tensorflow as tf"
      ]
    },
    {
      "cell_type": "code",
      "execution_count": 104,
      "metadata": {
        "id": "to4qkKl3PAFx"
      },
      "outputs": [],
      "source": [
        "train_generator = tf.keras.preprocessing.image.ImageDataGenerator(\n",
        "    rescale =1./255,\n",
        "    validation_split = 0.2\n",
        ")\n",
        "test_generator = tf.keras.preprocessing.image.ImageDataGenerator(\n",
        "    rescale = 1./255\n",
        ")"
      ]
    },
    {
      "cell_type": "code",
      "execution_count": 105,
      "metadata": {
        "colab": {
          "base_uri": "https://localhost:8080/"
        },
        "id": "ls9Nd-T3PCCZ",
        "outputId": "dc51668d-b53d-4859-ce66-5a0cd759f07d"
      },
      "outputs": [
        {
          "name": "stdout",
          "output_type": "stream",
          "text": [
            "Found 29811 validated image filenames.\n",
            "Found 7452 validated image filenames.\n",
            "Found 8829 validated image filenames.\n"
          ]
        }
      ],
      "source": [
        "train_images = train_generator.flow_from_dataframe(\n",
        "    dataframe=train_df,\n",
        "    x_col='FilePath',\n",
        "    y_col='Weights',\n",
        "    target_size=(224,224),\n",
        "    color_mode='rgb',\n",
        "    class_mode='raw',\n",
        "    batch_size=100,\n",
        "    shuffle=True,\n",
        "    seed=42,\n",
        "    subset='training',\n",
        ")\n",
        "\n",
        "val_images = train_generator.flow_from_dataframe(\n",
        "    dataframe=train_df,\n",
        "    x_col='FilePath',\n",
        "    y_col='Weights',\n",
        "    target_size=(224,224),\n",
        "    color_mode='rgb',\n",
        "    class_mode='raw',\n",
        "    batch_size=100,\n",
        "    shuffle=True,\n",
        "    seed=42,\n",
        "    subset='validation',\n",
        ")\n",
        "\n",
        "test_images = test_generator.flow_from_dataframe(\n",
        "    dataframe=test_df,\n",
        "    x_col='FilePath',\n",
        "    y_col='Weights',\n",
        "    target_size=(224,224),\n",
        "    color_mode='rgb',\n",
        "    class_mode='raw',\n",
        "    batch_size=100,\n",
        "    shuffle=False,\n",
        ")"
      ]
    },
    {
      "attachments": {},
      "cell_type": "markdown",
      "metadata": {
        "id": "4jnr13v3RMnY"
      },
      "source": [
        "## **CNN Design**\n",
        "\n",
        "The code below outlines the architecture of the CNN we use.\n",
        "\n",
        "The first Conv2D layer uses a large inital kernal size because the only feature in the input image is the cow itself, which covers a significant amount of area. Being able to absorb this information spread out across fewer filters will allow us to better capture the relationship between the area it is occupying and its resulting weight prediction - in theory.\n",
        "\n",
        "The remaining layers function have no special modifications."
      ]
    },
    {
      "cell_type": "code",
      "execution_count": 106,
      "metadata": {},
      "outputs": [
        {
          "name": "stdout",
          "output_type": "stream",
          "text": [
            "TensorFlow is using a GPU\n"
          ]
        }
      ],
      "source": [
        "if tf.config.list_physical_devices('GPU'):\n",
        "  print(\"TensorFlow is using a GPU\")"
      ]
    },
    {
      "cell_type": "code",
      "execution_count": 107,
      "metadata": {
        "id": "B9JM37pnRNGo"
      },
      "outputs": [],
      "source": [
        "inputs = tf.keras.Input(shape=(224,224,3))\n",
        "x = tf.keras.layers.Conv2D(filters=8, kernel_size=(30,30), activation='relu')(inputs)\n",
        "x = tf.keras.layers.AveragePooling2D()(x)\n",
        "x = tf.keras.layers.Conv2D(filters=32, kernel_size=(3,3), activation='relu')(x)\n",
        "x = tf.keras.layers.AveragePooling2D()(x)\n",
        "x = tf.keras.layers.GlobalAveragePooling2D()(x)\n",
        "x = tf.keras.layers.Dense(64, activation='relu')(x)\n",
        "outputs = tf.keras.layers.Dense(1, activation='linear')(x)"
      ]
    },
    {
      "attachments": {},
      "cell_type": "markdown",
      "metadata": {
        "id": "4jt6_D3MTO9e"
      },
      "source": [
        "## **CNN Training**\n",
        "\n",
        "For training we use the Adam Optimizer and MSE loss.\n",
        "\n",
        "We also perform early stopping checks in the event validation error rises. If the early stopping criteria is not hit, then we will perform 100 epochs of training."
      ]
    },
    {
      "cell_type": "code",
      "execution_count": 88,
      "metadata": {},
      "outputs": [],
      "source": [
        "# optimizer = tfa.optimizers.AdamW(\n",
        "#         learning_rate=learning_rate, weight_decay=weight_decay\n",
        "#     )"
      ]
    },
    {
      "cell_type": "code",
      "execution_count": 108,
      "metadata": {},
      "outputs": [
        {
          "name": "stdout",
          "output_type": "stream",
          "text": [
            "Model: \"model_6\"\n",
            "_________________________________________________________________\n",
            " Layer (type)                Output Shape              Param #   \n",
            "=================================================================\n",
            " input_4 (InputLayer)        [(None, 224, 224, 3)]     0         \n",
            "                                                                 \n",
            " conv2d_6 (Conv2D)           (None, 195, 195, 8)       21608     \n",
            "                                                                 \n",
            " average_pooling2d_6 (Averag  (None, 97, 97, 8)        0         \n",
            " ePooling2D)                                                     \n",
            "                                                                 \n",
            " conv2d_7 (Conv2D)           (None, 95, 95, 32)        2336      \n",
            "                                                                 \n",
            " average_pooling2d_7 (Averag  (None, 47, 47, 32)       0         \n",
            " ePooling2D)                                                     \n",
            "                                                                 \n",
            " global_average_pooling2d_3   (None, 32)               0         \n",
            " (GlobalAveragePooling2D)                                        \n",
            "                                                                 \n",
            " dense_6 (Dense)             (None, 64)                2112      \n",
            "                                                                 \n",
            " dense_7 (Dense)             (None, 1)                 65        \n",
            "                                                                 \n",
            "=================================================================\n",
            "Total params: 26,121\n",
            "Trainable params: 26,121\n",
            "Non-trainable params: 0\n",
            "_________________________________________________________________\n"
          ]
        }
      ],
      "source": [
        "cnn = tf.keras.Model(inputs = inputs, outputs = outputs)\n",
        "cnn.summary()\n"
      ]
    },
    {
      "cell_type": "code",
      "execution_count": 109,
      "metadata": {},
      "outputs": [
        {
          "name": "stdout",
          "output_type": "stream",
          "text": [
            "Epoch 1/100\n",
            "299/299 [==============================] - 50s 166ms/step - loss: 198.7544 - mean_squared_error: 198.7544 - val_loss: 94.7787 - val_mean_squared_error: 94.7787\n",
            "Epoch 2/100\n",
            "299/299 [==============================] - 53s 176ms/step - loss: 134.7902 - mean_squared_error: 134.7902 - val_loss: 90.9077 - val_mean_squared_error: 90.9077\n",
            "Epoch 3/100\n",
            "299/299 [==============================] - 49s 163ms/step - loss: 135.0295 - mean_squared_error: 135.0295 - val_loss: 92.8561 - val_mean_squared_error: 92.8561\n",
            "Epoch 4/100\n",
            "299/299 [==============================] - 44s 148ms/step - loss: 128.5888 - mean_squared_error: 128.5888 - val_loss: 96.9439 - val_mean_squared_error: 96.9439\n",
            "Epoch 5/100\n",
            "299/299 [==============================] - 45s 151ms/step - loss: 128.0143 - mean_squared_error: 128.0143 - val_loss: 100.5317 - val_mean_squared_error: 100.5317\n",
            "Epoch 6/100\n",
            "299/299 [==============================] - 45s 150ms/step - loss: 131.5731 - mean_squared_error: 131.5731 - val_loss: 99.0494 - val_mean_squared_error: 99.0494\n",
            "Epoch 7/100\n",
            "299/299 [==============================] - 44s 148ms/step - loss: 112.4569 - mean_squared_error: 112.4569 - val_loss: 90.0577 - val_mean_squared_error: 90.0577\n",
            "Epoch 8/100\n",
            "299/299 [==============================] - 45s 149ms/step - loss: 98.7395 - mean_squared_error: 98.7395 - val_loss: 86.3120 - val_mean_squared_error: 86.3120\n",
            "Epoch 9/100\n",
            "299/299 [==============================] - 45s 149ms/step - loss: 87.7106 - mean_squared_error: 87.7106 - val_loss: 85.5479 - val_mean_squared_error: 85.5479\n",
            "Epoch 10/100\n",
            "299/299 [==============================] - 46s 152ms/step - loss: 84.1149 - mean_squared_error: 84.1149 - val_loss: 91.4588 - val_mean_squared_error: 91.4588\n",
            "Epoch 11/100\n",
            "299/299 [==============================] - 44s 148ms/step - loss: 75.8478 - mean_squared_error: 75.8478 - val_loss: 77.8596 - val_mean_squared_error: 77.8596\n",
            "Epoch 12/100\n",
            "299/299 [==============================] - 44s 146ms/step - loss: 71.1147 - mean_squared_error: 71.1147 - val_loss: 80.4556 - val_mean_squared_error: 80.4556\n",
            "Epoch 13/100\n",
            "299/299 [==============================] - 45s 150ms/step - loss: 67.3839 - mean_squared_error: 67.3839 - val_loss: 73.1758 - val_mean_squared_error: 73.1758\n",
            "Epoch 14/100\n",
            "299/299 [==============================] - 72s 240ms/step - loss: 48.9098 - mean_squared_error: 48.9098 - val_loss: 60.7523 - val_mean_squared_error: 60.7523\n",
            "Epoch 15/100\n",
            "299/299 [==============================] - 64s 213ms/step - loss: 40.0753 - mean_squared_error: 40.0753 - val_loss: 51.7745 - val_mean_squared_error: 51.7745\n",
            "Epoch 16/100\n",
            "299/299 [==============================] - 71s 239ms/step - loss: 37.2991 - mean_squared_error: 37.2991 - val_loss: 55.6210 - val_mean_squared_error: 55.6210\n",
            "Epoch 17/100\n",
            "299/299 [==============================] - 59s 195ms/step - loss: 36.7605 - mean_squared_error: 36.7605 - val_loss: 58.9644 - val_mean_squared_error: 58.9644\n",
            "Epoch 18/100\n",
            "299/299 [==============================] - 48s 158ms/step - loss: 34.9536 - mean_squared_error: 34.9536 - val_loss: 77.7100 - val_mean_squared_error: 77.7100\n",
            "Epoch 19/100\n",
            "299/299 [==============================] - 45s 149ms/step - loss: 34.1446 - mean_squared_error: 34.1446 - val_loss: 48.3047 - val_mean_squared_error: 48.3047\n",
            "Epoch 20/100\n",
            "299/299 [==============================] - 44s 148ms/step - loss: 32.9971 - mean_squared_error: 32.9971 - val_loss: 46.9084 - val_mean_squared_error: 46.9084\n",
            "Epoch 21/100\n",
            "299/299 [==============================] - 45s 152ms/step - loss: 31.2154 - mean_squared_error: 31.2154 - val_loss: 49.0330 - val_mean_squared_error: 49.0330\n",
            "Epoch 22/100\n",
            "299/299 [==============================] - 45s 149ms/step - loss: 30.1406 - mean_squared_error: 30.1406 - val_loss: 44.4349 - val_mean_squared_error: 44.4349\n",
            "Epoch 23/100\n",
            "299/299 [==============================] - 60s 200ms/step - loss: 29.0598 - mean_squared_error: 29.0598 - val_loss: 43.5390 - val_mean_squared_error: 43.5390\n",
            "Epoch 24/100\n",
            "299/299 [==============================] - 45s 149ms/step - loss: 28.5901 - mean_squared_error: 28.5901 - val_loss: 50.6158 - val_mean_squared_error: 50.6158\n",
            "Epoch 25/100\n",
            "299/299 [==============================] - 46s 151ms/step - loss: 25.5909 - mean_squared_error: 25.5909 - val_loss: 40.1516 - val_mean_squared_error: 40.1516\n",
            "Epoch 26/100\n",
            "299/299 [==============================] - 44s 147ms/step - loss: 25.1327 - mean_squared_error: 25.1327 - val_loss: 53.5576 - val_mean_squared_error: 53.5576\n",
            "Epoch 27/100\n",
            "299/299 [==============================] - 45s 148ms/step - loss: 23.0808 - mean_squared_error: 23.0808 - val_loss: 42.8270 - val_mean_squared_error: 42.8270\n",
            "Epoch 28/100\n",
            "299/299 [==============================] - 44s 147ms/step - loss: 22.0439 - mean_squared_error: 22.0439 - val_loss: 40.2193 - val_mean_squared_error: 40.2193\n",
            "Epoch 29/100\n",
            "299/299 [==============================] - 46s 153ms/step - loss: 21.8953 - mean_squared_error: 21.8953 - val_loss: 48.5658 - val_mean_squared_error: 48.5658\n",
            "Epoch 30/100\n",
            "299/299 [==============================] - 44s 148ms/step - loss: 23.4499 - mean_squared_error: 23.4499 - val_loss: 63.8840 - val_mean_squared_error: 63.8840\n",
            "Epoch 31/100\n",
            "299/299 [==============================] - 44s 146ms/step - loss: 20.1695 - mean_squared_error: 20.1695 - val_loss: 59.1594 - val_mean_squared_error: 59.1594\n",
            "Epoch 32/100\n",
            "299/299 [==============================] - 44s 147ms/step - loss: 19.5696 - mean_squared_error: 19.5696 - val_loss: 39.0319 - val_mean_squared_error: 39.0319\n",
            "Epoch 33/100\n",
            "299/299 [==============================] - 45s 150ms/step - loss: 19.3481 - mean_squared_error: 19.3481 - val_loss: 40.1808 - val_mean_squared_error: 40.1808\n",
            "Epoch 34/100\n",
            "299/299 [==============================] - 44s 146ms/step - loss: 18.4440 - mean_squared_error: 18.4440 - val_loss: 39.9448 - val_mean_squared_error: 39.9448\n",
            "Epoch 35/100\n",
            "299/299 [==============================] - 44s 146ms/step - loss: 19.2539 - mean_squared_error: 19.2539 - val_loss: 42.7762 - val_mean_squared_error: 42.7762\n",
            "Epoch 36/100\n",
            "299/299 [==============================] - 44s 148ms/step - loss: 18.3504 - mean_squared_error: 18.3504 - val_loss: 36.9128 - val_mean_squared_error: 36.9128\n",
            "Epoch 37/100\n",
            "299/299 [==============================] - 46s 151ms/step - loss: 17.6420 - mean_squared_error: 17.6420 - val_loss: 36.6348 - val_mean_squared_error: 36.6348\n",
            "Epoch 38/100\n",
            "299/299 [==============================] - 44s 146ms/step - loss: 17.2931 - mean_squared_error: 17.2931 - val_loss: 49.9958 - val_mean_squared_error: 49.9958\n",
            "Epoch 39/100\n",
            "299/299 [==============================] - 44s 147ms/step - loss: 16.2502 - mean_squared_error: 16.2502 - val_loss: 45.8494 - val_mean_squared_error: 45.8494\n",
            "Epoch 40/100\n",
            "299/299 [==============================] - 45s 149ms/step - loss: 16.1577 - mean_squared_error: 16.1577 - val_loss: 40.1299 - val_mean_squared_error: 40.1299\n",
            "Epoch 41/100\n",
            "299/299 [==============================] - 45s 149ms/step - loss: 16.9740 - mean_squared_error: 16.9740 - val_loss: 34.3975 - val_mean_squared_error: 34.3975\n",
            "Epoch 42/100\n",
            "299/299 [==============================] - 44s 146ms/step - loss: 14.9595 - mean_squared_error: 14.9595 - val_loss: 56.7489 - val_mean_squared_error: 56.7489\n",
            "Epoch 43/100\n",
            "299/299 [==============================] - 44s 146ms/step - loss: 15.2183 - mean_squared_error: 15.2183 - val_loss: 34.9645 - val_mean_squared_error: 34.9645\n",
            "Epoch 44/100\n",
            "299/299 [==============================] - 44s 146ms/step - loss: 14.6336 - mean_squared_error: 14.6336 - val_loss: 38.3593 - val_mean_squared_error: 38.3593\n",
            "Epoch 45/100\n",
            "299/299 [==============================] - 45s 150ms/step - loss: 14.0094 - mean_squared_error: 14.0094 - val_loss: 36.6806 - val_mean_squared_error: 36.6806\n",
            "Epoch 46/100\n",
            "299/299 [==============================] - 49s 164ms/step - loss: 14.2890 - mean_squared_error: 14.2890 - val_loss: 33.0042 - val_mean_squared_error: 33.0042\n",
            "Epoch 47/100\n",
            "299/299 [==============================] - 44s 147ms/step - loss: 14.3052 - mean_squared_error: 14.3052 - val_loss: 41.9210 - val_mean_squared_error: 41.9210\n",
            "Epoch 48/100\n",
            "299/299 [==============================] - 44s 147ms/step - loss: 13.8245 - mean_squared_error: 13.8245 - val_loss: 45.4200 - val_mean_squared_error: 45.4200\n",
            "Epoch 49/100\n",
            "299/299 [==============================] - 45s 150ms/step - loss: 13.0032 - mean_squared_error: 13.0032 - val_loss: 37.0089 - val_mean_squared_error: 37.0089\n",
            "Epoch 50/100\n",
            "299/299 [==============================] - 45s 149ms/step - loss: 12.7390 - mean_squared_error: 12.7390 - val_loss: 34.7227 - val_mean_squared_error: 34.7227\n",
            "Epoch 51/100\n",
            "299/299 [==============================] - 45s 149ms/step - loss: 12.5792 - mean_squared_error: 12.5792 - val_loss: 34.4918 - val_mean_squared_error: 34.4918\n",
            "Epoch 52/100\n",
            "299/299 [==============================] - 44s 147ms/step - loss: 11.8410 - mean_squared_error: 11.8410 - val_loss: 32.6797 - val_mean_squared_error: 32.6797\n",
            "Epoch 53/100\n",
            "299/299 [==============================] - 45s 149ms/step - loss: 12.4034 - mean_squared_error: 12.4034 - val_loss: 32.8540 - val_mean_squared_error: 32.8540\n",
            "Epoch 54/100\n",
            "299/299 [==============================] - 44s 147ms/step - loss: 12.1375 - mean_squared_error: 12.1375 - val_loss: 44.1202 - val_mean_squared_error: 44.1202\n",
            "Epoch 55/100\n",
            "299/299 [==============================] - 44s 147ms/step - loss: 11.6700 - mean_squared_error: 11.6700 - val_loss: 32.9273 - val_mean_squared_error: 32.9273\n",
            "Epoch 56/100\n",
            "299/299 [==============================] - 45s 150ms/step - loss: 11.9781 - mean_squared_error: 11.9781 - val_loss: 52.0076 - val_mean_squared_error: 52.0076\n",
            "Epoch 57/100\n",
            "299/299 [==============================] - 46s 153ms/step - loss: 11.7892 - mean_squared_error: 11.7892 - val_loss: 33.2505 - val_mean_squared_error: 33.2505\n",
            "Epoch 58/100\n",
            "299/299 [==============================] - 45s 149ms/step - loss: 11.5331 - mean_squared_error: 11.5331 - val_loss: 31.6067 - val_mean_squared_error: 31.6067\n",
            "Epoch 59/100\n",
            "299/299 [==============================] - 47s 156ms/step - loss: 11.0182 - mean_squared_error: 11.0182 - val_loss: 33.7105 - val_mean_squared_error: 33.7105\n",
            "Epoch 60/100\n",
            "299/299 [==============================] - 47s 156ms/step - loss: 10.8386 - mean_squared_error: 10.8386 - val_loss: 33.0037 - val_mean_squared_error: 33.0037\n",
            "Epoch 61/100\n",
            "299/299 [==============================] - 49s 163ms/step - loss: 10.7951 - mean_squared_error: 10.7951 - val_loss: 30.2792 - val_mean_squared_error: 30.2792\n",
            "Epoch 62/100\n",
            "299/299 [==============================] - 70s 233ms/step - loss: 11.0026 - mean_squared_error: 11.0026 - val_loss: 31.3153 - val_mean_squared_error: 31.3153\n",
            "Epoch 63/100\n",
            "299/299 [==============================] - 78s 260ms/step - loss: 10.4144 - mean_squared_error: 10.4144 - val_loss: 35.4065 - val_mean_squared_error: 35.4065\n",
            "Epoch 64/100\n",
            "299/299 [==============================] - 77s 257ms/step - loss: 10.0561 - mean_squared_error: 10.0561 - val_loss: 36.2730 - val_mean_squared_error: 36.2730\n",
            "Epoch 65/100\n",
            "299/299 [==============================] - 73s 242ms/step - loss: 10.2422 - mean_squared_error: 10.2422 - val_loss: 34.2377 - val_mean_squared_error: 34.2377\n",
            "Epoch 66/100\n",
            "299/299 [==============================] - 67s 221ms/step - loss: 10.1997 - mean_squared_error: 10.1997 - val_loss: 30.7801 - val_mean_squared_error: 30.7801\n",
            "Epoch 67/100\n",
            "299/299 [==============================] - 48s 159ms/step - loss: 10.0820 - mean_squared_error: 10.0820 - val_loss: 29.7853 - val_mean_squared_error: 29.7853\n",
            "Epoch 68/100\n",
            "299/299 [==============================] - 45s 151ms/step - loss: 9.4586 - mean_squared_error: 9.4586 - val_loss: 35.3235 - val_mean_squared_error: 35.3235\n",
            "Epoch 69/100\n",
            "299/299 [==============================] - 45s 152ms/step - loss: 9.9207 - mean_squared_error: 9.9207 - val_loss: 33.2531 - val_mean_squared_error: 33.2531\n",
            "Epoch 70/100\n",
            "299/299 [==============================] - 47s 157ms/step - loss: 9.6596 - mean_squared_error: 9.6596 - val_loss: 31.7496 - val_mean_squared_error: 31.7496\n",
            "Epoch 71/100\n",
            "299/299 [==============================] - 45s 149ms/step - loss: 8.9271 - mean_squared_error: 8.9271 - val_loss: 30.9282 - val_mean_squared_error: 30.9282\n",
            "Epoch 72/100\n",
            "299/299 [==============================] - 44s 147ms/step - loss: 9.4802 - mean_squared_error: 9.4802 - val_loss: 28.8390 - val_mean_squared_error: 28.8390\n",
            "Epoch 73/100\n",
            "299/299 [==============================] - 44s 148ms/step - loss: 9.5080 - mean_squared_error: 9.5080 - val_loss: 40.6257 - val_mean_squared_error: 40.6257\n",
            "Epoch 74/100\n",
            "299/299 [==============================] - 44s 147ms/step - loss: 9.2788 - mean_squared_error: 9.2788 - val_loss: 34.4126 - val_mean_squared_error: 34.4126\n",
            "Epoch 75/100\n",
            "299/299 [==============================] - 48s 159ms/step - loss: 9.5078 - mean_squared_error: 9.5078 - val_loss: 32.4128 - val_mean_squared_error: 32.4128\n",
            "Epoch 76/100\n",
            "299/299 [==============================] - 58s 192ms/step - loss: 9.0351 - mean_squared_error: 9.0351 - val_loss: 37.2646 - val_mean_squared_error: 37.2646\n",
            "Epoch 77/100\n",
            "299/299 [==============================] - 73s 245ms/step - loss: 9.0254 - mean_squared_error: 9.0254 - val_loss: 29.1934 - val_mean_squared_error: 29.1934\n",
            "Epoch 78/100\n",
            "299/299 [==============================] - 78s 260ms/step - loss: 8.7892 - mean_squared_error: 8.7892 - val_loss: 36.7804 - val_mean_squared_error: 36.7804\n",
            "Epoch 79/100\n",
            "299/299 [==============================] - 70s 234ms/step - loss: 8.7036 - mean_squared_error: 8.7036 - val_loss: 33.8418 - val_mean_squared_error: 33.8418\n",
            "Epoch 80/100\n",
            "299/299 [==============================] - 60s 201ms/step - loss: 9.0335 - mean_squared_error: 9.0335 - val_loss: 33.0840 - val_mean_squared_error: 33.0840\n",
            "Epoch 81/100\n",
            "299/299 [==============================] - 44s 148ms/step - loss: 8.8566 - mean_squared_error: 8.8566 - val_loss: 29.6308 - val_mean_squared_error: 29.6308\n",
            "Epoch 82/100\n",
            "299/299 [==============================] - 45s 149ms/step - loss: 8.8922 - mean_squared_error: 8.8922 - val_loss: 31.2376 - val_mean_squared_error: 31.2376\n",
            "Epoch 83/100\n",
            "299/299 [==============================] - 47s 157ms/step - loss: 9.1327 - mean_squared_error: 9.1327 - val_loss: 39.3081 - val_mean_squared_error: 39.3081\n",
            "Epoch 84/100\n",
            "299/299 [==============================] - 46s 153ms/step - loss: 8.1876 - mean_squared_error: 8.1876 - val_loss: 30.1862 - val_mean_squared_error: 30.1862\n",
            "Epoch 85/100\n",
            "299/299 [==============================] - 45s 149ms/step - loss: 8.8560 - mean_squared_error: 8.8560 - val_loss: 32.4052 - val_mean_squared_error: 32.4052\n",
            "Epoch 86/100\n",
            "299/299 [==============================] - 65s 217ms/step - loss: 7.7301 - mean_squared_error: 7.7301 - val_loss: 28.3238 - val_mean_squared_error: 28.3238\n",
            "Epoch 87/100\n",
            "299/299 [==============================] - 73s 244ms/step - loss: 8.3303 - mean_squared_error: 8.3303 - val_loss: 30.6235 - val_mean_squared_error: 30.6235\n",
            "Epoch 88/100\n",
            "299/299 [==============================] - 56s 185ms/step - loss: 8.3603 - mean_squared_error: 8.3603 - val_loss: 30.5470 - val_mean_squared_error: 30.5470\n",
            "Epoch 89/100\n",
            "299/299 [==============================] - 49s 164ms/step - loss: 9.1104 - mean_squared_error: 9.1104 - val_loss: 29.8257 - val_mean_squared_error: 29.8257\n",
            "Epoch 90/100\n",
            "299/299 [==============================] - 48s 160ms/step - loss: 7.8221 - mean_squared_error: 7.8221 - val_loss: 35.4493 - val_mean_squared_error: 35.4493\n",
            "Epoch 91/100\n",
            "299/299 [==============================] - 63s 212ms/step - loss: 8.3542 - mean_squared_error: 8.3542 - val_loss: 34.1695 - val_mean_squared_error: 34.1695\n",
            "Epoch 92/100\n",
            "299/299 [==============================] - 78s 259ms/step - loss: 7.6987 - mean_squared_error: 7.6987 - val_loss: 31.3660 - val_mean_squared_error: 31.3660\n",
            "Epoch 93/100\n",
            "299/299 [==============================] - 60s 198ms/step - loss: 7.7586 - mean_squared_error: 7.7586 - val_loss: 28.7882 - val_mean_squared_error: 28.7882\n",
            "Epoch 94/100\n",
            "299/299 [==============================] - 55s 184ms/step - loss: 7.8449 - mean_squared_error: 7.8449 - val_loss: 38.0103 - val_mean_squared_error: 38.0103\n",
            "Epoch 95/100\n",
            "299/299 [==============================] - 47s 157ms/step - loss: 7.6813 - mean_squared_error: 7.6813 - val_loss: 40.0662 - val_mean_squared_error: 40.0662\n",
            "Epoch 96/100\n",
            "299/299 [==============================] - 46s 155ms/step - loss: 7.6940 - mean_squared_error: 7.6940 - val_loss: 28.4406 - val_mean_squared_error: 28.4406\n",
            "Epoch 97/100\n",
            "299/299 [==============================] - 50s 168ms/step - loss: 8.1944 - mean_squared_error: 8.1944 - val_loss: 34.2699 - val_mean_squared_error: 34.2699\n",
            "Epoch 98/100\n",
            "299/299 [==============================] - 49s 165ms/step - loss: 8.3010 - mean_squared_error: 8.3010 - val_loss: 31.2652 - val_mean_squared_error: 31.2652\n",
            "Epoch 99/100\n",
            "299/299 [==============================] - 47s 156ms/step - loss: 7.7033 - mean_squared_error: 7.7033 - val_loss: 34.4130 - val_mean_squared_error: 34.4130\n",
            "Epoch 100/100\n",
            "299/299 [==============================] - 46s 154ms/step - loss: 7.9641 - mean_squared_error: 7.9641 - val_loss: 33.5064 - val_mean_squared_error: 33.5064\n"
          ]
        }
      ],
      "source": [
        "seed = 42\n",
        "random.seed(seed)\n",
        "np.random.seed(seed)\n",
        "tf.random.set_seed(seed)\n",
        "keras.utils.set_random_seed(seed)\n",
        "\n",
        "cnn.compile(\n",
        "    optimizer=tf.keras.optimizers.legacy.Adam(learning_rate=1e-2),\n",
        "    loss=keras.losses.MeanSquaredError(),\n",
        "    metrics=[keras.metrics.MeanSquaredError()],\n",
        "    # batch_size=32\n",
        ")\n",
        "\n",
        "es = tf.keras.callbacks.EarlyStopping(monitor='val_loss', patience=20, restore_best_weights=True)\n",
        "epochs = 100\n",
        "\n",
        "history=cnn.fit(train_images, \n",
        "        epochs=epochs, \n",
        "        validation_data=val_images,\n",
        "        callbacks = [es])"
      ]
    },
    {
      "cell_type": "code",
      "execution_count": null,
      "metadata": {
        "colab": {
          "base_uri": "https://localhost:8080/"
        },
        "id": "cOxyC-goTGlN",
        "outputId": "6b582aef-710e-411e-be64-26d9dd6827dc"
      },
      "outputs": [],
      "source": [
        "# cnn = tf.keras.Model(inputs = inputs, outputs = outputs)\n",
        "# cnn.summary()\n",
        "# cnn.compile(\n",
        "#     optimizer='adam',\n",
        "#     loss='mse'\n",
        "# )"
      ]
    },
    {
      "cell_type": "code",
      "execution_count": null,
      "metadata": {
        "id": "ETb-gxBAFiCZ"
      },
      "outputs": [],
      "source": [
        "# history = cnn.fit(\n",
        "#     train_images,\n",
        "#     validation_data=val_images,\n",
        "#     epochs=100,\n",
        "#     callbacks=[\n",
        "#         tf.keras.callbacks.EarlyStopping(\n",
        "#             monitor='val_loss',\n",
        "#             patience=50,\n",
        "#             restore_best_weights=True\n",
        "#         )\n",
        "#     ]\n",
        "# )"
      ]
    },
    {
      "cell_type": "code",
      "execution_count": 110,
      "metadata": {},
      "outputs": [
        {
          "data": {
            "image/png": "[encoded data removed]",
            "text/plain": [
              "<Figure size 640x480 with 1 Axes>"
            ]
          },
          "metadata": {},
          "output_type": "display_data"
        }
      ],
      "source": [
        "import matplotlib.pyplot as plt\n",
        "\n",
        "# Plot training & validation accuracy values\n",
        "plt.plot(history.history['loss'])\n",
        "plt.plot(history.history['val_loss'])\n",
        "plt.title('Model loss')\n",
        "plt.ylabel('loss')\n",
        "plt.xlabel('Epoch')\n",
        "plt.legend(['Train', 'Validation'], loc='upper right')\n",
        "plt.show()"
      ]
    },
    {
      "attachments": {},
      "cell_type": "markdown",
      "metadata": {
        "id": "bvWm_0roTW2s"
      },
      "source": [
        "## **Making Predictions on Test Set**\n",
        "\n",
        "Here we run the test images through the trained CNN, and get predictions on the weights.\n",
        "\n",
        "We also want to perfrom some amount of backend CV. To do so, select a single cow from each day and grab its associated measured weight, and perform a prediction.\n",
        "\n",
        "These selected values will also be scored in the next block, at the same time as the entire testing set."
      ]
    },
    {
      "cell_type": "code",
      "execution_count": null,
      "metadata": {},
      "outputs": [],
      "source": [
        "# cnn.load_weights(\"./python/cnn/cnn_weights_forcast_20_8.h5\")"
      ]
    },
    {
      "cell_type": "code",
      "execution_count": 111,
      "metadata": {
        "colab": {
          "base_uri": "https://localhost:8080/"
        },
        "id": "zAbyJRO0Rk-b",
        "outputId": "84849710-c592-4aa7-95ad-a412d9dfbe12"
      },
      "outputs": [
        {
          "name": "stdout",
          "output_type": "stream",
          "text": [
            "89/89 [==============================] - 16s 185ms/step\n"
          ]
        }
      ],
      "source": [
        "predicted_weights = np.squeeze(cnn.predict(test_images))\n",
        "true_weights = test_images.labels"
      ]
    },
    {
      "attachments": {},
      "cell_type": "markdown",
      "metadata": {
        "id": "3y-9xAYuTbWT"
      },
      "source": [
        "## **Model Evaluation / Metric Determination**\n",
        "\n",
        "To demonstrate the total quality of the ending model we find the RMSE and R^2 scores.\n",
        "\n",
        "The RMSE demonstrates exactly how far from some regression line our data points are. Smaller is better.\n",
        "\n",
        "The R^2 score demonstrates how much variation in our prediction is explained by the input images. Typically, larger means better. In our case this is the degree to which our predictions' variance can be explained by the contents of the image itself - or essentially how much our model is actually using those pixels to generate a conclusion."
      ]
    },
    {
      "cell_type": "code",
      "execution_count": 112,
      "metadata": {},
      "outputs": [],
      "source": [
        "def mape(actual, pred): \n",
        "    actual, pred = np.array(actual), np.array(pred)\n",
        "    return np.mean(np.abs((actual - pred) / actual)) * 100"
      ]
    },
    {
      "cell_type": "code",
      "execution_count": 113,
      "metadata": {
        "colab": {
          "base_uri": "https://localhost:8080/"
        },
        "id": "1w75hSOQRiGg",
        "outputId": "52688346-3337-4197-abb9-cd7768b4dada"
      },
      "outputs": [
        {
          "name": "stdout",
          "output_type": "stream",
          "text": [
            "METRICS ON ENTIRE DATASET:\n",
            "--------------------------\n",
            "Test RMSE:\t5.00520\n",
            "Test R^2 Score:\t0.77779\n",
            "Test MAPE:\t5.09345%\n",
            "--------------------------\n"
          ]
        }
      ],
      "source": [
        "from sklearn.metrics import mean_squared_error \n",
        "from sklearn.metrics import r2_score\n",
        "print('METRICS ON ENTIRE DATASET:')\n",
        "print('--------------------------')\n",
        "# rmse = np.sqrt(cnn.evaluate(test_images, verbose=0))\n",
        "rmse = mean_squared_error(true_weights, predicted_weights)**0.5\n",
        "print(\"Test RMSE:\\t{:.5f}\".format(rmse))\n",
        "r2 = r2_score(true_weights,predicted_weights)\n",
        "print(\"Test R^2 Score:\\t{:.5f}\".format(r2))\n",
        "MAPE = mape(true_weights, predicted_weights)\n",
        "print(\"Test MAPE:\\t{:.5f}%\".format(MAPE))\n",
        "print('--------------------------')"
      ]
    },
    {
      "cell_type": "code",
      "execution_count": null,
      "metadata": {},
      "outputs": [],
      "source": []
    }
  ],
  "metadata": {
    "accelerator": "GPU",
    "colab": {
      "provenance": []
    },
    "gpuClass": "standard",
    "kernelspec": {
      "display_name": "Python 3",
      "name": "python3"
    },
    "language_info": {
      "codemirror_mode": {
        "name": "ipython",
        "version": 3
      },
      "file_extension": ".py",
      "mimetype": "text/x-python",
      "name": "python",
      "nbconvert_exporter": "python",
      "pygments_lexer": "ipython3",
      "version": "3.8.17"
    }
  },
  "nbformat": 4,
  "nbformat_minor": 0
}
