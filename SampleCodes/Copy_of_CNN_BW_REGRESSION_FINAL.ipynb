{
  "cells": [
    {
      "attachments": {},
      "cell_type": "markdown",
      "metadata": {},
      "source": [
        "## ReadMe\n",
        "Codes from AdML and DL classes, changed some details, but still need improvement.\n",
        "\n",
        "\n",
        "Finally, we got following results\n",
        "\n",
        "| Metric| Result|\n",
        "| --- | --- |\n",
        "| Test RMSE:|59.81580|\n",
        "| Test R^2 Score: |0.86933|\n",
        "| Test MAPE:|11.07628%|\n",
        "\n"
      ]
    },
    {
      "attachments": {},
      "cell_type": "markdown",
      "metadata": {
        "id": "f2VbmQcXxnob"
      },
      "source": [
        "## **Environment Setup**\n",
        "\n",
        "1. Mount our google drive directory\n",
        "2. Set the current directory in our python runtime\n",
        "\n"
      ]
    },
    {
      "cell_type": "code",
      "execution_count": 1,
      "metadata": {
        "colab": {
          "base_uri": "https://localhost:8080/"
        },
        "id": "BmuEtxRnxiJ1",
        "outputId": "48ee6782-d153-4530-874c-fe4b997c450f"
      },
      "outputs": [
        {
          "name": "stdout",
          "output_type": "stream",
          "text": [
            "/Users/yebi/Library/CloudStorage/OneDrive-VirginiaTech/Research/Codes/research/BCS/BodyWeight\n"
          ]
        }
      ],
      "source": [
        "# from google.colab import drive\n",
        "# drive.mount('/content/drive', force_remount=True)\n",
        "\n",
        "import os\n",
        "os.chdir('/Users/yebi/Library/CloudStorage/OneDrive-VirginiaTech/Research/Codes/research/BCS/BodyWeight')\n",
        "# os.chdir('/content/drive/MyDrive/Ye/Projects/DairyComputerVision/BodyWeight') \n",
        "\n",
        "# os.chdir('/content/drive/MyDrive/Students/Ye/Projects/DairyBCS/BodyWeight')\n",
        "# os.chdir('/content/drive/MyDrive/School/CS5824/FINALPROJECT/')\n",
        "!pwd"
      ]
    },
    {
      "attachments": {},
      "cell_type": "markdown",
      "metadata": {
        "id": "buzqPfl4yZdU"
      },
      "source": [
        "## **Necessary Imports**"
      ]
    },
    {
      "cell_type": "code",
      "execution_count": 2,
      "metadata": {
        "id": "Pf0hDDwtyeEw"
      },
      "outputs": [],
      "source": [
        "##opencv\n",
        "# from google.colab.patches import cv2_imshow\n",
        "import cv2\n",
        "\n",
        "import numpy as np\n",
        "from glob import glob #read img path.\n",
        "import pandas as pd\n",
        "from pathlib import Path\n",
        "import os.path\n",
        "\n",
        "##tensorflow and keras\n",
        "from sklearn.model_selection import train_test_split\n",
        "import tensorflow as tf\n",
        "from sklearn.metrics import r2_score"
      ]
    },
    {
      "attachments": {},
      "cell_type": "markdown",
      "metadata": {
        "id": "STwGlAY-zCd-"
      },
      "source": [
        "## **Parse Drive Directory for Cow Data**\n",
        "\n",
        "REQUIREMENTS:\n",
        "1. The data_dir variable contains the directory which contains each of the day folders.\n",
        "2. Each day folder contains depth, CSV, and RGB subfolders\n",
        "\n",
        "data_dir\n",
        "> D1\n",
        ">> depth\\\n",
        ">> CSV\\\n",
        ">> RGB\n",
        "\n",
        "Where each of the depth, CSV, and RGB folders store folders which have name (COWID)AM or (COWID)PM\n",
        "and store their respective data.\n",
        "\n",
        "The day folders should be formatted like so:\n",
        "\n",
        "D1\n",
        ">depth\n",
        ">>2343AM\n",
        ">>>__123412.png\n",
        "\n",
        ">>2343PM\n",
        ">>>__123412.png"
      ]
    },
    {
      "cell_type": "code",
      "execution_count": 3,
      "metadata": {
        "colab": {
          "base_uri": "https://localhost:8080/"
        },
        "id": "ROfh3c3fzBwJ",
        "outputId": "fb6e6749-355f-4a53-8b42-a213b72b9037"
      },
      "outputs": [
        {
          "name": "stdout",
          "output_type": "stream",
          "text": [
            "Inside of:  /Volumes/MyPassport1/\n",
            "Got information for days:  D1, D2, D3, D4, D5, D6, D7, D8, D9, D10, D11, D12, D13, D14, D15, D16, D17, D18, D19, D20, D21, D22, D23, D24, D25, D26, D27, D28\n",
            "Beginning parse of  D1\n",
            "Attempting to parse depth in  D1\n",
            "Attempting to parse CSV in  D1\n",
            "Finished parsing:  D1\n",
            "Beginning parse of  D2\n",
            "Attempting to parse depth in  D2\n",
            "Attempting to parse CSV in  D2\n",
            "Finished parsing:  D2\n",
            "Beginning parse of  D3\n",
            "Attempting to parse depth in  D3\n",
            "Attempting to parse CSV in  D3\n",
            "Finished parsing:  D3\n",
            "Beginning parse of  D4\n",
            "Attempting to parse depth in  D4\n",
            "Attempting to parse CSV in  D4\n",
            "Finished parsing:  D4\n",
            "Beginning parse of  D5\n",
            "Attempting to parse depth in  D5\n",
            "Attempting to parse CSV in  D5\n",
            "Finished parsing:  D5\n",
            "Beginning parse of  D6\n",
            "Attempting to parse depth in  D6\n",
            "Attempting to parse CSV in  D6\n",
            "Finished parsing:  D6\n",
            "Beginning parse of  D7\n",
            "Attempting to parse depth in  D7\n",
            "Attempting to parse CSV in  D7\n",
            "Finished parsing:  D7\n",
            "Beginning parse of  D8\n",
            "Attempting to parse depth in  D8\n",
            "Attempting to parse CSV in  D8\n",
            "Finished parsing:  D8\n",
            "Beginning parse of  D9\n",
            "Attempting to parse depth in  D9\n",
            "Attempting to parse CSV in  D9\n",
            "Finished parsing:  D9\n",
            "Beginning parse of  D10\n",
            "Attempting to parse depth in  D10\n",
            "Attempting to parse CSV in  D10\n",
            "Finished parsing:  D10\n",
            "Beginning parse of  D11\n",
            "Attempting to parse depth in  D11\n",
            "Attempting to parse CSV in  D11\n",
            "Finished parsing:  D11\n",
            "Beginning parse of  D12\n",
            "Attempting to parse depth in  D12\n",
            "Attempting to parse CSV in  D12\n",
            "Finished parsing:  D12\n",
            "Beginning parse of  D13\n",
            "Attempting to parse depth in  D13\n",
            "Attempting to parse CSV in  D13\n",
            "Finished parsing:  D13\n",
            "Beginning parse of  D14\n",
            "Attempting to parse depth in  D14\n",
            "Attempting to parse CSV in  D14\n",
            "Finished parsing:  D14\n",
            "Beginning parse of  D15\n",
            "Attempting to parse depth in  D15\n",
            "Attempting to parse CSV in  D15\n",
            "Finished parsing:  D15\n",
            "Beginning parse of  D16\n",
            "Attempting to parse depth in  D16\n",
            "Attempting to parse CSV in  D16\n",
            "Finished parsing:  D16\n",
            "Beginning parse of  D17\n",
            "Attempting to parse depth in  D17\n",
            "Attempting to parse CSV in  D17\n",
            "Finished parsing:  D17\n",
            "Beginning parse of  D18\n",
            "Attempting to parse depth in  D18\n",
            "Attempting to parse CSV in  D18\n",
            "Finished parsing:  D18\n",
            "Beginning parse of  D19\n",
            "Attempting to parse depth in  D19\n",
            "Attempting to parse CSV in  D19\n",
            "Finished parsing:  D19\n",
            "Beginning parse of  D20\n",
            "Attempting to parse depth in  D20\n",
            "Attempting to parse CSV in  D20\n",
            "Finished parsing:  D20\n",
            "Beginning parse of  D21\n",
            "Attempting to parse depth in  D21\n",
            "Attempting to parse CSV in  D21\n",
            "Finished parsing:  D21\n",
            "Beginning parse of  D22\n",
            "Attempting to parse depth in  D22\n",
            "Attempting to parse CSV in  D22\n",
            "Finished parsing:  D22\n",
            "Beginning parse of  D23\n",
            "Attempting to parse depth in  D23\n",
            "Attempting to parse CSV in  D23\n",
            "Finished parsing:  D23\n",
            "Beginning parse of  D24\n",
            "Attempting to parse depth in  D24\n",
            "Attempting to parse CSV in  D24\n",
            "Finished parsing:  D24\n",
            "Beginning parse of  D25\n",
            "Attempting to parse depth in  D25\n",
            "Attempting to parse CSV in  D25\n",
            "Finished parsing:  D25\n",
            "Beginning parse of  D26\n",
            "Attempting to parse depth in  D26\n",
            "Attempting to parse CSV in  D26\n",
            "Finished parsing:  D26\n",
            "Beginning parse of  D27\n",
            "Attempting to parse depth in  D27\n",
            "Attempting to parse CSV in  D27\n",
            "Finished parsing:  D27\n",
            "Beginning parse of  D28\n",
            "Attempting to parse depth in  D28\n",
            "Attempting to parse CSV in  D28\n",
            "Finished parsing:  D28\n"
          ]
        }
      ],
      "source": [
        "# Store paths to all cow images\n",
        "import string\n",
        "import re\n",
        "day_regex = 'D\\d+$'\n",
        "# data_dir = '/2020DairyLMC/'\n",
        "root_dir = '/Volumes/MyPassport1/'\n",
        "# root_dir = os.getcwd() + data_dir   # CHANGE THIS TO MATCH YOUR FOLDER STRUCTURE\n",
        "                                    # SHOULD BE WERE ALL THE DX FOLDERS ARE LOCATED\n",
        "# day_dirs = list(filter(lambda day: re.search(day_regex, day), os.listdir(root_dir)))\n",
        "\n",
        "day_dirs = []\n",
        "for i in range(1,29):\n",
        "    day_dirs.append(\"D\" + str(i))\n",
        "\n",
        "print('Inside of: ', root_dir)\n",
        "print('Got information for days: ', ', '.join(day_dirs))\n",
        "\n",
        "depth_dir = '/depth/'\n",
        "csv_dir = '/CSV/'\n",
        "rgb_dir = '/RGB/'\n",
        "\n",
        "cow_depth_paths = np.array([], dtype=np.unicode_)   # Path to all cow depth data folders\n",
        "cow_csv_paths = np.array([], dtype=np.unicode_)     # Path to all cow depth data folders\n",
        "cow_rgb_paths = np.array([], dtype=np.unicode_)     # Path to all cow depth data folders\n",
        "\n",
        "for day in day_dirs:\n",
        "  print('Beginning parse of ', day)\n",
        "  temp_depth_dir = root_dir + day + depth_dir\n",
        "  temp_csv_dir = root_dir + day + csv_dir\n",
        "  temp_rgb_dir = root_dir + day + rgb_dir\n",
        "\n",
        "  try:\n",
        "    print('Attempting to parse depth in ', day)\n",
        "    for cow_dir in os.listdir(temp_depth_dir): # PARSE depth SUBDIRECTORY (/DX/depth/)\n",
        "      cowid = temp_depth_dir + cow_dir\n",
        "      for image in os.listdir(cowid):\n",
        "        if image[0] =='.':\n",
        "          continue\n",
        "\n",
        "        path_from_cwd = root_dir + day + depth_dir + cow_dir + '/'\n",
        "        # path_from_cwd = '.' + data_dir + day + depth_dir + cow_dir + '/'\n",
        "        cow_depth_paths = np.append(cow_depth_paths, path_from_cwd + image)\n",
        "  except FileNotFoundError:\n",
        "    print(day, '/depth was not found. Skipping to the next.')\n",
        "\n",
        "  # try:\n",
        "  #   print('Attempting to parse RGB in ', day)\n",
        "  #   for cow_dir in os.listdir(temp_rgb_dir): # PARSE RGB SUBDIRECTORY (/DX/CSV/)\n",
        "  #     cowid = temp_rgb_dir + cow_dir\n",
        "  #     for image in os.listdir(cowid):\n",
        "  #       path_from_cwd = '.' + data_dir + day + rgb_dir + cow_dir + '/'\n",
        "  #       cow_rgb_paths = np.append(cow_rgb_paths, path_from_cwd + image)\n",
        "  # except FileNotFoundError:\n",
        "  #   print(day, '/RGB was not found. Skipping to the next.')\n",
        "\n",
        "  try:\n",
        "    print('Attempting to parse CSV in ', day)\n",
        "    for cow_dir in os.listdir(temp_csv_dir): # PARSE CSV SUBDIRECTORY (/DX/RGB/)\n",
        "      cowid = temp_csv_dir + cow_dir\n",
        "      for image in os.listdir(cowid):\n",
        "        if image[0] == '.':\n",
        "          continue\n",
        "        path_from_cwd = root_dir + day + csv_dir + cow_dir + '/'\n",
        "        # path_from_cwd = '.' + data_dir + day + csv_dir + cow_dir + '/'\n",
        "        cow_csv_paths = np.append(cow_csv_paths, path_from_cwd + image)\n",
        "  except FileNotFoundError:\n",
        "    print(day, '/CSV was not found. Skipping to the next.')\n",
        "    \n",
        "  print('Finished parsing: ', day)"
      ]
    },
    {
      "attachments": {},
      "cell_type": "markdown",
      "metadata": {
        "id": "odDNPF3C0UeR"
      },
      "source": [
        "### **Cow Path Information**\n",
        "\n",
        "Now the paths to all found files will be stored in cow_depth_paths, cow_rgb_paths, and cow_csv_paths respectively.\n",
        "\n",
        "All indices in each of the lists are of the form:\n",
        "\n",
        "./COW_DATA/D5/depth/5687PM/_Depth_61321.png\n",
        "\n",
        "(NOTE THAT THIS PATH IS UNIQUE TO MY OWN ENVIRONMENT. IT MAY LOOK DIFFERENT FOR YOU.)"
      ]
    },
    {
      "cell_type": "code",
      "execution_count": 4,
      "metadata": {
        "colab": {
          "base_uri": "https://localhost:8080/"
        },
        "id": "B9SdvlC147-r",
        "outputId": "750feb7a-028c-4d70-c0c1-44e71c435d46"
      },
      "outputs": [
        {
          "name": "stdout",
          "output_type": "stream",
          "text": [
            "(40368,)\n"
          ]
        }
      ],
      "source": [
        "print(cow_depth_paths.shape)"
      ]
    },
    {
      "attachments": {},
      "cell_type": "markdown",
      "metadata": {
        "id": "E02LVhTi6hDV"
      },
      "source": [
        "## **Cow Weight Information Fetching**\n",
        "\n",
        "Now grab the read weights from the csv file.\\\n",
        "The CSV file should be able to be found on the top level of the data_dir directory, on the same\n",
        "level as the D1, D2, ...., DN folders.\n",
        "\n",
        "First, read the CSV file into a dataframe.\\\n",
        "Then we will match up the provided weights from the CSV with the depths they correspond to on a daily basis."
      ]
    },
    {
      "cell_type": "code",
      "execution_count": 5,
      "metadata": {
        "id": "QHCfBm2P7TDo"
      },
      "outputs": [],
      "source": [
        "bw_csv_path = '/Users/yebi/Library/CloudStorage/OneDrive-VirginiaTech/Research/Codes/research/BCS/BodyWeight/BWData/' + 'BodyWeight_cleaned.csv'\n",
        "bw_df = pd.read_csv(bw_csv_path) # Read weight csv into a pandas dataframe\n",
        "\n",
        "# Get the largest 'day' number out of all found days\n",
        "largest_day = 0\n",
        "for day in day_dirs:\n",
        "  if (int(day[1:]) > largest_day):\n",
        "    largest_day = int(day[1:])\n",
        "daily_labelled_depth_images = [[] for _ in range(largest_day)]\n",
        "\n",
        "for i in range(len(cow_depth_paths)):\n",
        "  split_depth_path = cow_depth_paths[i].split('/')\n",
        "  # day_inf = split_depth_path[-4]\n",
        "  day_str = int(split_depth_path[-4][1:])      # Used to access the weight dataframe\n",
        "  day_idx = int(day_str) - 1              # Take a day string (ie D5), isolate '5' and subtract 1\n",
        "                                          # convert to array index\n",
        "  id = split_depth_path[-2]               # The cowid, of the form XXXXAM or XXXXPM\n",
        "\n",
        "  try:\n",
        "    weight = bw_df[bw_df.DAY == day_str][id].values[0] # grab the weight for given cow\n",
        "  except KeyError:\n",
        "    continue\n",
        "  daily_labelled_depth_images[day_idx].append([cow_depth_paths[i], day_str, weight])\n",
        "\n",
        "daily_labelled_depth_images = np.array(daily_labelled_depth_images, dtype=object)"
      ]
    },
    {
      "attachments": {},
      "cell_type": "markdown",
      "metadata": {
        "id": "b2zCQB96Fx1V"
      },
      "source": [
        "## **Format Of daily_labelled_depth_images**\n",
        "\n",
        "1st Dimension\\\n",
        "The array daily_labelled_depth_images will contain an array for each day between the largest day value (D10 for example) and the smallest day value (D1). Any folders which happened to not be found or exist in this range will appear as empty lists.\n",
        "\n",
        "2nd Dimension\\\n",
        "The second dimension of daily_labelled_depth_images contains lists of length two which contain\\\n",
        "[PATH_TO_DEPTH_IMAGE, ASSOCIATED WEIGHT]"
      ]
    },
    {
      "attachments": {},
      "cell_type": "markdown",
      "metadata": {
        "id": "P9qNoYPQGxcs"
      },
      "source": [
        "We also create a version of this information where each day's information is combined into a single list, removing the first dimension of daily_labelled_depth_images.\n",
        "\n",
        "This is then converted into a DataFrame with the first column labelled 'FilePath' and the second column labelled 'Weights'"
      ]
    },
    {
      "cell_type": "code",
      "execution_count": 6,
      "metadata": {
        "colab": {
          "base_uri": "https://localhost:8080/",
          "height": 424
        },
        "id": "GMJFU_kFGlbQ",
        "outputId": "49526cf7-01d5-4e65-e9ff-11999c7f2016"
      },
      "outputs": [
        {
          "data": {
            "text/plain": [
              "array([['/Volumes/MyPassport1/D1/depth/4973AM/_Depth_1237.png', 1,\n",
              "        772.0006059689],\n",
              "       ['/Volumes/MyPassport1/D1/depth/4973AM/_Depth_1238.png', 1,\n",
              "        772.0006059689],\n",
              "       ['/Volumes/MyPassport1/D1/depth/4973AM/_Depth_1239.png', 1,\n",
              "        772.0006059689],\n",
              "       ...,\n",
              "       ['/Volumes/MyPassport1/D28/depth/5532PM/_Depth_105.png', 28,\n",
              "        464.93217925],\n",
              "       ['/Volumes/MyPassport1/D28/depth/5532PM/_Depth_106.png', 28,\n",
              "        464.93217925],\n",
              "       ['/Volumes/MyPassport1/D28/depth/5532PM/_Depth_107.png', 28,\n",
              "        464.93217925]], dtype=object)"
            ]
          },
          "execution_count": 6,
          "metadata": {},
          "output_type": "execute_result"
        }
      ],
      "source": [
        "labelled_depth_images = []\n",
        "for day in daily_labelled_depth_images:\n",
        "  labelled_depth_images += day\n",
        "labelled_depth_images = np.array(labelled_depth_images, dtype=object)\n",
        "labelled_depth_images"
      ]
    },
    {
      "cell_type": "code",
      "execution_count": 7,
      "metadata": {},
      "outputs": [
        {
          "name": "stdout",
          "output_type": "stream",
          "text": [
            "Number of labelled depth images is: 38258\n"
          ]
        },
        {
          "data": {
            "text/html": [
              "<div>\n",
              "<style scoped>\n",
              "    .dataframe tbody tr th:only-of-type {\n",
              "        vertical-align: middle;\n",
              "    }\n",
              "\n",
              "    .dataframe tbody tr th {\n",
              "        vertical-align: top;\n",
              "    }\n",
              "\n",
              "    .dataframe thead th {\n",
              "        text-align: right;\n",
              "    }\n",
              "</style>\n",
              "<table border=\"1\" class=\"dataframe\">\n",
              "  <thead>\n",
              "    <tr style=\"text-align: right;\">\n",
              "      <th></th>\n",
              "      <th>FilePath</th>\n",
              "      <th>Days</th>\n",
              "      <th>Weights</th>\n",
              "    </tr>\n",
              "  </thead>\n",
              "  <tbody>\n",
              "    <tr>\n",
              "      <th>0</th>\n",
              "      <td>/Volumes/MyPassport1/D1/depth/4973AM/_Depth_12...</td>\n",
              "      <td>1</td>\n",
              "      <td>772.000606</td>\n",
              "    </tr>\n",
              "    <tr>\n",
              "      <th>1</th>\n",
              "      <td>/Volumes/MyPassport1/D1/depth/4973AM/_Depth_12...</td>\n",
              "      <td>1</td>\n",
              "      <td>772.000606</td>\n",
              "    </tr>\n",
              "    <tr>\n",
              "      <th>2</th>\n",
              "      <td>/Volumes/MyPassport1/D1/depth/4973AM/_Depth_12...</td>\n",
              "      <td>1</td>\n",
              "      <td>772.000606</td>\n",
              "    </tr>\n",
              "    <tr>\n",
              "      <th>3</th>\n",
              "      <td>/Volumes/MyPassport1/D1/depth/4973AM/_Depth_12...</td>\n",
              "      <td>1</td>\n",
              "      <td>772.000606</td>\n",
              "    </tr>\n",
              "    <tr>\n",
              "      <th>4</th>\n",
              "      <td>/Volumes/MyPassport1/D1/depth/4973AM/_Depth_12...</td>\n",
              "      <td>1</td>\n",
              "      <td>772.000606</td>\n",
              "    </tr>\n",
              "    <tr>\n",
              "      <th>...</th>\n",
              "      <td>...</td>\n",
              "      <td>...</td>\n",
              "      <td>...</td>\n",
              "    </tr>\n",
              "    <tr>\n",
              "      <th>39119</th>\n",
              "      <td>/Volumes/MyPassport1/D28/depth/5532PM/_Depth_1...</td>\n",
              "      <td>28</td>\n",
              "      <td>464.932179</td>\n",
              "    </tr>\n",
              "    <tr>\n",
              "      <th>39120</th>\n",
              "      <td>/Volumes/MyPassport1/D28/depth/5532PM/_Depth_1...</td>\n",
              "      <td>28</td>\n",
              "      <td>464.932179</td>\n",
              "    </tr>\n",
              "    <tr>\n",
              "      <th>39121</th>\n",
              "      <td>/Volumes/MyPassport1/D28/depth/5532PM/_Depth_1...</td>\n",
              "      <td>28</td>\n",
              "      <td>464.932179</td>\n",
              "    </tr>\n",
              "    <tr>\n",
              "      <th>39122</th>\n",
              "      <td>/Volumes/MyPassport1/D28/depth/5532PM/_Depth_1...</td>\n",
              "      <td>28</td>\n",
              "      <td>464.932179</td>\n",
              "    </tr>\n",
              "    <tr>\n",
              "      <th>39123</th>\n",
              "      <td>/Volumes/MyPassport1/D28/depth/5532PM/_Depth_1...</td>\n",
              "      <td>28</td>\n",
              "      <td>464.932179</td>\n",
              "    </tr>\n",
              "  </tbody>\n",
              "</table>\n",
              "<p>38258 rows × 3 columns</p>\n",
              "</div>"
            ],
            "text/plain": [
              "                                                FilePath  Days     Weights\n",
              "0      /Volumes/MyPassport1/D1/depth/4973AM/_Depth_12...     1  772.000606\n",
              "1      /Volumes/MyPassport1/D1/depth/4973AM/_Depth_12...     1  772.000606\n",
              "2      /Volumes/MyPassport1/D1/depth/4973AM/_Depth_12...     1  772.000606\n",
              "3      /Volumes/MyPassport1/D1/depth/4973AM/_Depth_12...     1  772.000606\n",
              "4      /Volumes/MyPassport1/D1/depth/4973AM/_Depth_12...     1  772.000606\n",
              "...                                                  ...   ...         ...\n",
              "39119  /Volumes/MyPassport1/D28/depth/5532PM/_Depth_1...    28  464.932179\n",
              "39120  /Volumes/MyPassport1/D28/depth/5532PM/_Depth_1...    28  464.932179\n",
              "39121  /Volumes/MyPassport1/D28/depth/5532PM/_Depth_1...    28  464.932179\n",
              "39122  /Volumes/MyPassport1/D28/depth/5532PM/_Depth_1...    28  464.932179\n",
              "39123  /Volumes/MyPassport1/D28/depth/5532PM/_Depth_1...    28  464.932179\n",
              "\n",
              "[38258 rows x 3 columns]"
            ]
          },
          "execution_count": 7,
          "metadata": {},
          "output_type": "execute_result"
        }
      ],
      "source": [
        "col_vals = ['FilePath', 'Days', 'Weights']\n",
        "labelled_depth_images = pd.DataFrame(data=labelled_depth_images, columns=col_vals)\n",
        "labelled_depth_images['FilePath'] = labelled_depth_images['FilePath'].astype(str)\n",
        "labelled_depth_images['Days'] = labelled_depth_images['Days'].astype(int)\n",
        "labelled_depth_images['Weights'] = labelled_depth_images['Weights'].astype(float)\n",
        "labelled_depth_images = labelled_depth_images[-np.isnan(labelled_depth_images['Weights'])]\n",
        "print(\"Number of labelled depth images is: %d\" %labelled_depth_images.shape[0])\n",
        "labelled_depth_images"
      ]
    },
    {
      "attachments": {},
      "cell_type": "markdown",
      "metadata": {
        "id": "kHeBxCvdOiZ-"
      },
      "source": [
        "## **Create Train / Validation / Test Split, Load Images**\n",
        "\n",
        "Prepare the images for use in the CNN now. Create the train_test_split, then create\n",
        "ImageDataGenerator objects to scale the pixel values for each depth image, and subsequently create\n",
        "a validation set out of the training set."
      ]
    },
    {
      "cell_type": "code",
      "execution_count": 8,
      "metadata": {},
      "outputs": [],
      "source": [
        "train_df = labelled_depth_images.loc[labelled_depth_images['Days'] <= 20]\n",
        "test_df = labelled_depth_images.loc[labelled_depth_images['Days'] > 20]"
      ]
    },
    {
      "cell_type": "code",
      "execution_count": 9,
      "metadata": {},
      "outputs": [
        {
          "name": "stdout",
          "output_type": "stream",
          "text": [
            "Training set size is 26695\n",
            "Test set size is 11563\n"
          ]
        }
      ],
      "source": [
        "print(\"Training set size is %d\" %train_df.shape[0])\n",
        "print(\"Test set size is %d\" %test_df.shape[0])"
      ]
    },
    {
      "cell_type": "code",
      "execution_count": 10,
      "metadata": {
        "id": "to4qkKl3PAFx"
      },
      "outputs": [],
      "source": [
        "train_generator = tf.keras.preprocessing.image.ImageDataGenerator(\n",
        "    rescale =1./255,\n",
        "    validation_split = 0.2\n",
        ")\n",
        "test_generator = tf.keras.preprocessing.image.ImageDataGenerator(\n",
        "    rescale = 1./255\n",
        ")"
      ]
    },
    {
      "cell_type": "code",
      "execution_count": 11,
      "metadata": {
        "colab": {
          "base_uri": "https://localhost:8080/"
        },
        "id": "ls9Nd-T3PCCZ",
        "outputId": "dc51668d-b53d-4859-ce66-5a0cd759f07d"
      },
      "outputs": [
        {
          "name": "stdout",
          "output_type": "stream",
          "text": [
            "Found 21356 validated image filenames.\n",
            "Found 5339 validated image filenames.\n",
            "Found 11563 validated image filenames.\n"
          ]
        }
      ],
      "source": [
        "train_images = train_generator.flow_from_dataframe(\n",
        "    dataframe=train_df,\n",
        "    x_col='FilePath',\n",
        "    y_col='Weights',\n",
        "    target_size=(120,120),\n",
        "    color_mode='rgb',\n",
        "    class_mode='raw',\n",
        "    batch_size=10,\n",
        "    shuffle=True,\n",
        "    seed=42,\n",
        "    subset='training',\n",
        ")\n",
        "\n",
        "val_images = train_generator.flow_from_dataframe(\n",
        "    dataframe=train_df,\n",
        "    x_col='FilePath',\n",
        "    y_col='Weights',\n",
        "    target_size=(120,120),\n",
        "    color_mode='rgb',\n",
        "    class_mode='raw',\n",
        "    batch_size=10,\n",
        "    shuffle=True,\n",
        "    seed=42,\n",
        "    subset='validation',\n",
        ")\n",
        "\n",
        "test_images = test_generator.flow_from_dataframe(\n",
        "    dataframe=test_df,\n",
        "    x_col='FilePath',\n",
        "    y_col='Weights',\n",
        "    target_size=(120,120),\n",
        "    color_mode='rgb',\n",
        "    class_mode='raw',\n",
        "    batch_size=10,\n",
        "    shuffle=False,\n",
        ")"
      ]
    },
    {
      "attachments": {},
      "cell_type": "markdown",
      "metadata": {
        "id": "4jnr13v3RMnY"
      },
      "source": [
        "## **CNN Design**\n",
        "\n",
        "The code below outlines the architecture of the CNN we use.\n",
        "\n",
        "The first Conv2D layer uses a large inital kernal size because the only feature in the input image is the cow itself, which covers a significant amount of area. Being able to absorb this information spread out across fewer filters will allow us to better capture the relationship between the area it is occupying and its resulting weight prediction - in theory.\n",
        "\n",
        "The remaining layers function have no special modifications."
      ]
    },
    {
      "cell_type": "code",
      "execution_count": 12,
      "metadata": {
        "id": "B9JM37pnRNGo"
      },
      "outputs": [
        {
          "name": "stdout",
          "output_type": "stream",
          "text": [
            "Metal device set to: Apple M1\n",
            "\n",
            "systemMemory: 8.00 GB\n",
            "maxCacheSize: 2.67 GB\n",
            "\n"
          ]
        }
      ],
      "source": [
        "inputs = tf.keras.Input(shape=(120,120,3))\n",
        "x = tf.keras.layers.Conv2D(filters=8, kernel_size=(30,30), activation='relu')(inputs)\n",
        "x = tf.keras.layers.AveragePooling2D()(x)\n",
        "x = tf.keras.layers.Conv2D(filters=32, kernel_size=(3,3), activation='relu')(x)\n",
        "x = tf.keras.layers.AveragePooling2D()(x)\n",
        "x = tf.keras.layers.GlobalAveragePooling2D()(x)\n",
        "x = tf.keras.layers.Dense(64, activation='relu')(x)\n",
        "outputs = tf.keras.layers.Dense(1, activation='linear')(x)"
      ]
    },
    {
      "attachments": {},
      "cell_type": "markdown",
      "metadata": {
        "id": "4jt6_D3MTO9e"
      },
      "source": [
        "## **CNN Training**\n",
        "\n",
        "For training we use the Adam Optimizer and MSE loss.\n",
        "\n",
        "We also perform early stopping checks in the event validation error rises. If the early stopping criteria is not hit, then we will perform 100 epochs of training."
      ]
    },
    {
      "cell_type": "code",
      "execution_count": 13,
      "metadata": {
        "colab": {
          "base_uri": "https://localhost:8080/"
        },
        "id": "cOxyC-goTGlN",
        "outputId": "6b582aef-710e-411e-be64-26d9dd6827dc"
      },
      "outputs": [
        {
          "name": "stdout",
          "output_type": "stream",
          "text": [
            "Model: \"model\"\n",
            "_________________________________________________________________\n",
            " Layer (type)                Output Shape              Param #   \n",
            "=================================================================\n",
            " input_1 (InputLayer)        [(None, 120, 120, 3)]     0         \n",
            "                                                                 \n",
            " conv2d (Conv2D)             (None, 91, 91, 8)         21608     \n",
            "                                                                 \n",
            " average_pooling2d (AverageP  (None, 45, 45, 8)        0         \n",
            " ooling2D)                                                       \n",
            "                                                                 \n",
            " conv2d_1 (Conv2D)           (None, 43, 43, 32)        2336      \n",
            "                                                                 \n",
            " average_pooling2d_1 (Averag  (None, 21, 21, 32)       0         \n",
            " ePooling2D)                                                     \n",
            "                                                                 \n",
            " global_average_pooling2d (G  (None, 32)               0         \n",
            " lobalAveragePooling2D)                                          \n",
            "                                                                 \n",
            " dense (Dense)               (None, 64)                2112      \n",
            "                                                                 \n",
            " dense_1 (Dense)             (None, 1)                 65        \n",
            "                                                                 \n",
            "=================================================================\n",
            "Total params: 26,121\n",
            "Trainable params: 26,121\n",
            "Non-trainable params: 0\n",
            "_________________________________________________________________\n"
          ]
        }
      ],
      "source": [
        "cnn = tf.keras.Model(inputs = inputs, outputs = outputs)\n",
        "cnn.summary()\n",
        "cnn.compile(\n",
        "    optimizer='adam',\n",
        "    loss='mse'\n",
        ")"
      ]
    },
    {
      "cell_type": "code",
      "execution_count": 15,
      "metadata": {
        "id": "ETb-gxBAFiCZ"
      },
      "outputs": [
        {
          "name": "stdout",
          "output_type": "stream",
          "text": [
            "Epoch 1/100\n",
            "2136/2136 [==============================] - 948s 444ms/step - loss: 15645.9023 - val_loss: 7872.0688\n",
            "Epoch 2/100\n",
            "2136/2136 [==============================] - 1012s 474ms/step - loss: 5684.9736 - val_loss: 5354.8462\n",
            "Epoch 3/100\n",
            "2136/2136 [==============================] - 1008s 472ms/step - loss: 3222.3303 - val_loss: 2049.8167\n",
            "Epoch 4/100\n",
            "2136/2136 [==============================] - 1000s 468ms/step - loss: 1848.4495 - val_loss: 1605.5104\n",
            "Epoch 5/100\n",
            "2136/2136 [==============================] - 997s 467ms/step - loss: 1523.0299 - val_loss: 3358.4583\n",
            "Epoch 6/100\n",
            "2136/2136 [==============================] - 1013s 474ms/step - loss: 1357.1393 - val_loss: 1551.9669\n",
            "Epoch 7/100\n",
            "2136/2136 [==============================] - 1039s 486ms/step - loss: 1239.4065 - val_loss: 1443.3578\n",
            "Epoch 8/100\n",
            "2136/2136 [==============================] - 1034s 484ms/step - loss: 1129.9186 - val_loss: 1668.1013\n",
            "Epoch 9/100\n",
            "2136/2136 [==============================] - 1031s 483ms/step - loss: 1001.3885 - val_loss: 1416.4597\n",
            "Epoch 10/100\n",
            "2136/2136 [==============================] - 1019s 477ms/step - loss: 949.2585 - val_loss: 1718.3292\n",
            "Epoch 11/100\n",
            "2136/2136 [==============================] - 987s 462ms/step - loss: 898.9038 - val_loss: 1798.5677\n",
            "Epoch 12/100\n",
            "2136/2136 [==============================] - 983s 460ms/step - loss: 840.1062 - val_loss: 1917.4906\n",
            "Epoch 13/100\n",
            "2136/2136 [==============================] - 983s 460ms/step - loss: 809.7972 - val_loss: 1514.0090\n",
            "Epoch 14/100\n",
            "2136/2136 [==============================] - 992s 464ms/step - loss: 786.1493 - val_loss: 1239.4113\n",
            "Epoch 15/100\n",
            "2136/2136 [==============================] - 987s 462ms/step - loss: 727.0910 - val_loss: 1279.1383\n",
            "Epoch 16/100\n",
            "2136/2136 [==============================] - 985s 461ms/step - loss: 729.1342 - val_loss: 1242.2830\n",
            "Epoch 17/100\n",
            "2136/2136 [==============================] - 981s 459ms/step - loss: 690.9373 - val_loss: 1410.3453\n",
            "Epoch 18/100\n",
            "2136/2136 [==============================] - 992s 464ms/step - loss: 683.0835 - val_loss: 1484.5625\n",
            "Epoch 19/100\n",
            "2136/2136 [==============================] - 992s 464ms/step - loss: 660.2384 - val_loss: 1386.4261\n"
          ]
        }
      ],
      "source": [
        "history = cnn.fit(\n",
        "    train_images,\n",
        "    validation_data=val_images,\n",
        "    epochs=100,\n",
        "    callbacks=[\n",
        "        tf.keras.callbacks.EarlyStopping(\n",
        "            monitor='val_loss',\n",
        "            patience=5,\n",
        "            restore_best_weights=True\n",
        "        )\n",
        "    ]\n",
        ")"
      ]
    },
    {
      "cell_type": "code",
      "execution_count": 16,
      "metadata": {},
      "outputs": [
        {
          "data": {
            "image/png": "[encoded data removed]",
            "text/plain": [
              "<Figure size 640x480 with 1 Axes>"
            ]
          },
          "metadata": {},
          "output_type": "display_data"
        }
      ],
      "source": [
        "import matplotlib.pyplot as plt\n",
        "\n",
        "# Plot training & validation accuracy values\n",
        "plt.plot(history.history['loss'])\n",
        "plt.plot(history.history['val_loss'])\n",
        "plt.title('Model loss')\n",
        "plt.ylabel('loss')\n",
        "plt.xlabel('Epoch')\n",
        "plt.legend(['Train', 'Validation'], loc='upper right')\n",
        "plt.show()"
      ]
    },
    {
      "cell_type": "code",
      "execution_count": 17,
      "metadata": {},
      "outputs": [],
      "source": [
        "cnn.save(\"./python/cnn/cnn_weights_forcast_20_8.h5\")"
      ]
    },
    {
      "attachments": {},
      "cell_type": "markdown",
      "metadata": {
        "id": "bvWm_0roTW2s"
      },
      "source": [
        "## **Making Predictions on Test Set**\n",
        "\n",
        "Here we run the test images through the trained CNN, and get predictions on the weights.\n",
        "\n",
        "We also want to perfrom some amount of backend CV. To do so, select a single cow from each day and grab its associated measured weight, and perform a prediction.\n",
        "\n",
        "These selected values will also be scored in the next block, at the same time as the entire testing set."
      ]
    },
    {
      "cell_type": "code",
      "execution_count": 14,
      "metadata": {},
      "outputs": [],
      "source": [
        "cnn.load_weights(\"./python/cnn/cnn_weights_forcast_20_8.h5\")"
      ]
    },
    {
      "cell_type": "code",
      "execution_count": 15,
      "metadata": {
        "colab": {
          "base_uri": "https://localhost:8080/"
        },
        "id": "zAbyJRO0Rk-b",
        "outputId": "84849710-c592-4aa7-95ad-a412d9dfbe12"
      },
      "outputs": [
        {
          "name": "stderr",
          "output_type": "stream",
          "text": [
            "2023-05-03 15:35:17.788242: W tensorflow/tsl/platform/profile_utils/cpu_utils.cc:128] Failed to get CPU frequency: 0 Hz\n"
          ]
        },
        {
          "name": "stdout",
          "output_type": "stream",
          "text": [
            "1157/1157 [==============================] - 119s 103ms/step\n"
          ]
        }
      ],
      "source": [
        "import random\n",
        "predicted_weights = np.squeeze(cnn.predict(test_images))\n",
        "true_weights = test_images.labels"
      ]
    },
    {
      "attachments": {},
      "cell_type": "markdown",
      "metadata": {
        "id": "3y-9xAYuTbWT"
      },
      "source": [
        "## **Model Evaluation / Metric Determination**\n",
        "\n",
        "To demonstrate the total quality of the ending model we find the RMSE and R^2 scores.\n",
        "\n",
        "The RMSE demonstrates exactly how far from some regression line our data points are. Smaller is better.\n",
        "\n",
        "The R^2 score demonstrates how much variation in our prediction is explained by the input images. Typically, larger means better. In our case this is the degree to which our predictions' variance can be explained by the contents of the image itself - or essentially how much our model is actually using those pixels to generate a conclusion."
      ]
    },
    {
      "cell_type": "code",
      "execution_count": 16,
      "metadata": {},
      "outputs": [],
      "source": [
        "def mape(actual, pred): \n",
        "    actual, pred = np.array(actual), np.array(pred)\n",
        "    return np.mean(np.abs((actual - pred) / actual)) * 100"
      ]
    },
    {
      "cell_type": "code",
      "execution_count": 19,
      "metadata": {
        "colab": {
          "base_uri": "https://localhost:8080/"
        },
        "id": "1w75hSOQRiGg",
        "outputId": "52688346-3337-4197-abb9-cd7768b4dada"
      },
      "outputs": [
        {
          "name": "stdout",
          "output_type": "stream",
          "text": [
            "METRICS ON ENTIRE DATASET:\n",
            "--------------------------\n",
            "Test RMSE:\t59.81580\n",
            "Test R^2 Score:\t0.86933\n",
            "Test MAPE:\t11.07628%\n",
            "--------------------------\n"
          ]
        }
      ],
      "source": [
        "from sklearn.metrics import mean_squared_error \n",
        "print('METRICS ON ENTIRE DATASET:')\n",
        "print('--------------------------')\n",
        "# rmse = np.sqrt(cnn.evaluate(test_images, verbose=0))\n",
        "rmse = mean_squared_error(true_weights, predicted_weights)**0.5\n",
        "print(\"Test RMSE:\\t{:.5f}\".format(rmse))\n",
        "r2 = r2_score(true_weights,predicted_weights)\n",
        "print(\"Test R^2 Score:\\t{:.5f}\".format(r2))\n",
        "MAPE = mape(true_weights, predicted_weights)\n",
        "print(\"Test MAPE:\\t{:.5f}%\".format(MAPE))\n",
        "print('--------------------------')"
      ]
    },
    {
      "cell_type": "code",
      "execution_count": null,
      "metadata": {},
      "outputs": [],
      "source": []
    }
  ],
  "metadata": {
    "accelerator": "GPU",
    "colab": {
      "provenance": []
    },
    "gpuClass": "standard",
    "kernelspec": {
      "display_name": "Python 3",
      "name": "python3"
    },
    "language_info": {
      "codemirror_mode": {
        "name": "ipython",
        "version": 3
      },
      "file_extension": ".py",
      "mimetype": "text/x-python",
      "name": "python",
      "nbconvert_exporter": "python",
      "pygments_lexer": "ipython3",
      "version": "3.8.16"
    }
  },
  "nbformat": 4,
  "nbformat_minor": 0
}
